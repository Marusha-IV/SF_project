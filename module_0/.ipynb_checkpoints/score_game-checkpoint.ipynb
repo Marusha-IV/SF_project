{
 "cells": [
  {
   "cell_type": "code",
   "execution_count": 2,
   "metadata": {},
   "outputs": [
    {
     "name": "stdout",
     "output_type": "stream",
     "text": [
      "Ваш алгоритм угадывает число в среднем за 5 попыток\n",
      "5\n"
     ]
    }
   ],
   "source": [
    "import numpy as np\n",
    "\n",
    "def game_core_v(number):\n",
    "    '''Начиная из середины интервала предполагаемое число уменьшается или увеличивается \n",
    "        в зависимости от того, больше оно или меньше загаданного.\n",
    "        Реализован метод половинного деления.\n",
    "       Функция принимает загаданное число и возвращает число попыток'''\n",
    "    \n",
    "    count = 1\n",
    "    predict = 50 # np.random.randint(1,101)\n",
    "    limit_max = 101\n",
    "    limit_min = 1\n",
    "    # print('n=', number)\n",
    "    \n",
    "    while number != predict:\n",
    "        # print('pr=', predict)\n",
    "        count+=1\n",
    "        if number > predict:\n",
    "            limit_min = predict\n",
    "            predict = (limit_max+limit_min)//2\n",
    "        elif number < predict:\n",
    "            limit_max = predict\n",
    "            predict = (limit_max+limit_min)//2\n",
    "    \n",
    "    # print('c=', count)\n",
    "    return(count) # выход из цикла, при угадывании\n",
    "\n",
    "\n",
    "def score_game(game_core):\n",
    "    '''Запускаем игру 1000 раз, чтобы узнать, как быстро игра угадывает число'''\n",
    "    \n",
    "    count_ls = []\n",
    "    np.random.seed(434586337)  # фиксируем RANDOM SEED, чтобы ваш эксперимент был воспроизводим!\n",
    "    random_array = np.random.randint(1,101, size=(1000))\n",
    "    \n",
    "    for number in random_array:\n",
    "        count_ls.append(game_core(number))\n",
    "        \n",
    "    score = int(np.mean(count_ls))\n",
    "    print(f\"Ваш алгоритм угадывает число в среднем за {score} попыток\")\n",
    "    return(score)\n",
    "\n",
    "\n",
    "print(score_game(game_core_v))"
   ]
  },
  {
   "cell_type": "code",
   "execution_count": null,
   "metadata": {},
   "outputs": [],
   "source": []
  }
 ],
 "metadata": {
  "kernelspec": {
   "display_name": "Python 3",
   "language": "python",
   "name": "python3"
  },
  "language_info": {
   "codemirror_mode": {
    "name": "ipython",
    "version": 3
   },
   "file_extension": ".py",
   "mimetype": "text/x-python",
   "name": "python",
   "nbconvert_exporter": "python",
   "pygments_lexer": "ipython3",
   "version": "3.8.3"
  }
 },
 "nbformat": 4,
 "nbformat_minor": 4
}
